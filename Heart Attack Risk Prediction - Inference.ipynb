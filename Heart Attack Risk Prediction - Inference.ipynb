{
 "cells": [
  {
   "cell_type": "markdown",
   "metadata": {},
   "source": [
    "## **Model Inference**"
   ]
  },
  {
   "cell_type": "markdown",
   "metadata": {},
   "source": [
    "### **1. Import Libraries**"
   ]
  },
  {
   "cell_type": "code",
   "execution_count": 1,
   "metadata": {},
   "outputs": [],
   "source": [
    "# Import Libraries\n",
    "\n",
    "import json\n",
    "import pickle\n",
    "import pandas as pd"
   ]
  },
  {
   "cell_type": "markdown",
   "metadata": {},
   "source": [
    "### **2. Load Model**"
   ]
  },
  {
   "cell_type": "code",
   "execution_count": 2,
   "metadata": {},
   "outputs": [],
   "source": [
    "# Load Files\n",
    "with open('list_num_cols.txt', 'r') as file_1:\n",
    "    list_cat_cols = json.load(file_1)\n",
    "\n",
    "with open('list_cat_cols.txt', 'r') as file_2:\n",
    "    list_num_cols = json.load(file_2)\n",
    "\n",
    "\n",
    "# Load model\n",
    "with open('best_dt_model.pkl', 'rb') as model_file:\n",
    "    model = pickle.load(model_file)"
   ]
  },
  {
   "cell_type": "markdown",
   "metadata": {},
   "source": [
    "### **3. Input Inference Data**"
   ]
  },
  {
   "cell_type": "code",
   "execution_count": 3,
   "metadata": {},
   "outputs": [
    {
     "data": {
      "text/html": [
       "<div>\n",
       "<style scoped>\n",
       "    .dataframe tbody tr th:only-of-type {\n",
       "        vertical-align: middle;\n",
       "    }\n",
       "\n",
       "    .dataframe tbody tr th {\n",
       "        vertical-align: top;\n",
       "    }\n",
       "\n",
       "    .dataframe thead th {\n",
       "        text-align: right;\n",
       "    }\n",
       "</style>\n",
       "<table border=\"1\" class=\"dataframe\">\n",
       "  <thead>\n",
       "    <tr style=\"text-align: right;\">\n",
       "      <th></th>\n",
       "      <th>Patient_ID</th>\n",
       "      <th>Age</th>\n",
       "      <th>Sex</th>\n",
       "      <th>Cholesterol</th>\n",
       "      <th>Heart_Rate</th>\n",
       "      <th>Diabetes</th>\n",
       "      <th>Smoking</th>\n",
       "      <th>Obesity</th>\n",
       "      <th>Alcohol_Consumption</th>\n",
       "      <th>Diet</th>\n",
       "      <th>Stress_Level</th>\n",
       "      <th>BMI</th>\n",
       "      <th>Triglycerides</th>\n",
       "      <th>Continent</th>\n",
       "    </tr>\n",
       "  </thead>\n",
       "  <tbody>\n",
       "    <tr>\n",
       "      <th>0</th>\n",
       "      <td>ABC1234</td>\n",
       "      <td>67</td>\n",
       "      <td>Female</td>\n",
       "      <td>208</td>\n",
       "      <td>72</td>\n",
       "      <td>0</td>\n",
       "      <td>1</td>\n",
       "      <td>0</td>\n",
       "      <td>0</td>\n",
       "      <td>Average</td>\n",
       "      <td>9</td>\n",
       "      <td>31.251233</td>\n",
       "      <td>286</td>\n",
       "      <td>Africa</td>\n",
       "    </tr>\n",
       "    <tr>\n",
       "      <th>1</th>\n",
       "      <td>DEF4568</td>\n",
       "      <td>21</td>\n",
       "      <td>Male</td>\n",
       "      <td>389</td>\n",
       "      <td>98</td>\n",
       "      <td>1</td>\n",
       "      <td>1</td>\n",
       "      <td>1</td>\n",
       "      <td>1</td>\n",
       "      <td>Unhealty</td>\n",
       "      <td>1</td>\n",
       "      <td>27.194973</td>\n",
       "      <td>235</td>\n",
       "      <td>Europe</td>\n",
       "    </tr>\n",
       "    <tr>\n",
       "      <th>2</th>\n",
       "      <td>GHI7890</td>\n",
       "      <td>84</td>\n",
       "      <td>Male</td>\n",
       "      <td>383</td>\n",
       "      <td>73</td>\n",
       "      <td>1</td>\n",
       "      <td>1</td>\n",
       "      <td>0</td>\n",
       "      <td>1</td>\n",
       "      <td>Average</td>\n",
       "      <td>9</td>\n",
       "      <td>36.464704</td>\n",
       "      <td>378</td>\n",
       "      <td>South America</td>\n",
       "    </tr>\n",
       "    <tr>\n",
       "      <th>3</th>\n",
       "      <td>JKL0123</td>\n",
       "      <td>55</td>\n",
       "      <td>Female</td>\n",
       "      <td>320</td>\n",
       "      <td>95</td>\n",
       "      <td>1</td>\n",
       "      <td>0</td>\n",
       "      <td>0</td>\n",
       "      <td>1</td>\n",
       "      <td>Healty</td>\n",
       "      <td>7</td>\n",
       "      <td>35.424258</td>\n",
       "      <td>297</td>\n",
       "      <td>Asia</td>\n",
       "    </tr>\n",
       "  </tbody>\n",
       "</table>\n",
       "</div>"
      ],
      "text/plain": [
       "  Patient_ID  Age     Sex  Cholesterol  Heart_Rate  Diabetes  Smoking  \\\n",
       "0    ABC1234   67  Female          208          72         0        1   \n",
       "1    DEF4568   21    Male          389          98         1        1   \n",
       "2    GHI7890   84    Male          383          73         1        1   \n",
       "3    JKL0123   55  Female          320          95         1        0   \n",
       "\n",
       "   Obesity  Alcohol_Consumption      Diet  Stress_Level        BMI  \\\n",
       "0        0                    0   Average             9  31.251233   \n",
       "1        1                    1  Unhealty             1  27.194973   \n",
       "2        0                    1   Average             9  36.464704   \n",
       "3        0                    1    Healty             7  35.424258   \n",
       "\n",
       "   Triglycerides      Continent  \n",
       "0            286         Africa  \n",
       "1            235         Europe  \n",
       "2            378  South America  \n",
       "3            297           Asia  "
      ]
     },
     "execution_count": 3,
     "metadata": {},
     "output_type": "execute_result"
    }
   ],
   "source": [
    "# Define new data\n",
    "\n",
    "data_inf = {'Patient_ID': ['ABC1234', 'DEF4568', 'GHI7890', 'JKL0123'],\n",
    "            'Age': [67, 21, 84, 55] , \n",
    "            'Sex': ['Female', 'Male', 'Male', 'Female'], \n",
    "            'Cholesterol': [208, 389, 383, 320], \n",
    "            'Heart_Rate': [72, 98, 73, 95], \n",
    "            'Diabetes': [0, 1, 1, 1], \n",
    "            'Smoking': [1, 1, 1, 0],\n",
    "            'Obesity': [0, 1, 0, 0], \n",
    "            'Alcohol_Consumption': [0, 1, 1, 1], \n",
    "            'Diet': ['Average', 'Unhealty', 'Average', 'Healty'], \n",
    "            'Stress_Level': [9, 1, 9, 7], \n",
    "            'BMI': [31.251233, 27.194973, 36.464704, 35.424258],\n",
    "            'Triglycerides': [286, 235, 378, 297], \n",
    "            'Continent': ['Africa', 'Europe', 'South America', 'Asia']}\n",
    "\n",
    "# Create the DataFrame\n",
    "df_inf = pd.DataFrame(data_inf)\n",
    "\n",
    "# Print the DataFrame\n",
    "df_inf"
   ]
  },
  {
   "cell_type": "markdown",
   "metadata": {},
   "source": [
    "### **4. Model Prediction**"
   ]
  },
  {
   "cell_type": "markdown",
   "metadata": {},
   "source": [
    "Karena model handling preprocessing dengan pipeline, data tidak perlu diproses terlebih dahulu secara terpisah. Langkah selanjutnya adalah menggunakan model yang disimpan untuk membuat prediksi."
   ]
  },
  {
   "cell_type": "code",
   "execution_count": 4,
   "metadata": {},
   "outputs": [
    {
     "name": "stdout",
     "output_type": "stream",
     "text": [
      "Prediction for ID ABC1234: Non-Heart Attack Risk\n",
      "Prediction for ID DEF4568: Heart Attack Risk\n",
      "Prediction for ID GHI7890: Non-Heart Attack Risk\n",
      "Prediction for ID JKL0123: Heart Attack Risk\n"
     ]
    }
   ],
   "source": [
    "# Predict using best model\n",
    "y_pred_inf = model.predict(df_inf)\n",
    "\n",
    "# Print the predictions\n",
    "for idx, pred in enumerate(y_pred_inf):\n",
    "    if pred == 0:\n",
    "        print(f'Prediction for ID {df_inf[\"Patient_ID\"].iloc[idx]}: Non-Heart Attack Risk')\n",
    "    elif pred == 1:\n",
    "        print(f'Prediction for ID {df_inf[\"Patient_ID\"].iloc[idx]}: Heart Attack Risk')"
   ]
  },
  {
   "cell_type": "markdown",
   "metadata": {},
   "source": [
    "### **5. Conclution**"
   ]
  },
  {
   "cell_type": "markdown",
   "metadata": {},
   "source": [
    "Model ini secara akurat memprediksi status risiko serangan jantung dari data yang belum pernah dilihat sebelumnya, seperti yang ditunjukkan oleh contoh bahwa data tersebut terdiri dari 2 tidak berisiko serangan jantung dan 2 berisiko serangan jantung.\n"
   ]
  }
 ],
 "metadata": {
  "kernelspec": {
   "display_name": "iznia",
   "language": "python",
   "name": "python3"
  },
  "language_info": {
   "codemirror_mode": {
    "name": "ipython",
    "version": 3
   },
   "file_extension": ".py",
   "mimetype": "text/x-python",
   "name": "python",
   "nbconvert_exporter": "python",
   "pygments_lexer": "ipython3",
   "version": "3.12.3"
  }
 },
 "nbformat": 4,
 "nbformat_minor": 2
}
